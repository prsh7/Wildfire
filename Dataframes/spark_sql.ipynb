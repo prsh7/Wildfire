{
  "nbformat": 4,
  "nbformat_minor": 0,
  "metadata": {
    "colab": {
      "name": "spark_sql.ipynb",
      "provenance": []
    },
    "kernelspec": {
      "name": "python3",
      "display_name": "Python 3"
    }
  },
  "cells": [
    {
      "cell_type": "code",
      "metadata": {
        "id": "6WYsm3zO8o9Y",
        "colab_type": "code",
        "colab": {
          "base_uri": "https://localhost:8080/",
          "height": 228
        },
        "outputId": "697405be-8ac8-4e41-abbe-ff5126d222db"
      },
      "source": [
        "!wget https://www.stats.govt.nz/assets/Uploads/Effects-of-COVID-19-on-trade/Download-data/Effects-of-COVID19-on-trade-1-February-03-June-2020-Provisional.csv"
      ],
      "execution_count": 16,
      "outputs": [
        {
          "output_type": "stream",
          "text": [
            "--2020-06-10 11:36:15--  https://www.stats.govt.nz/assets/Uploads/Effects-of-COVID-19-on-trade/Download-data/Effects-of-COVID19-on-trade-1-February-03-June-2020-Provisional.csv\n",
            "Resolving www.stats.govt.nz (www.stats.govt.nz)... 45.60.11.104\n",
            "Connecting to www.stats.govt.nz (www.stats.govt.nz)|45.60.11.104|:443... connected.\n",
            "HTTP request sent, awaiting response... 200 OK\n",
            "Length: 2376490 (2.3M) [text/csv]\n",
            "Saving to: ‘Effects-of-COVID19-on-trade-1-February-03-June-2020-Provisional.csv’\n",
            "\n",
            "Effects-of-COVID19- 100%[===================>]   2.27M  1.09MB/s    in 2.1s    \n",
            "\n",
            "2020-06-10 11:36:19 (1.09 MB/s) - ‘Effects-of-COVID19-on-trade-1-February-03-June-2020-Provisional.csv’ saved [2376490/2376490]\n",
            "\n"
          ],
          "name": "stdout"
        }
      ]
    },
    {
      "cell_type": "code",
      "metadata": {
        "id": "baGde_o88y_C",
        "colab_type": "code",
        "colab": {
          "base_uri": "https://localhost:8080/",
          "height": 104
        },
        "outputId": "fb3b9445-3538-497f-8acc-df781890c24e"
      },
      "source": [
        "#!pip install --quiet pyspark\n",
        "from pyspark.sql import SparkSession, SQLContext, Row\n",
        "\n",
        "spark = SparkSession.builder.appName(\"kdd\").getOrCreate()\n",
        "sc = spark.sparkContext\n",
        "data_file = \"/content/Effects-of-COVID19-on-trade-1-February-03-June-2020-Provisional.csv\"\n",
        "raw_rdd = sc.textFile(data_file).cache()\n",
        "raw_rdd.take(5)"
      ],
      "execution_count": 17,
      "outputs": [
        {
          "output_type": "execute_result",
          "data": {
            "text/plain": [
              "['Direction,Year,Date,Weekday,Current_Match,Country,Commodity,Transport_Mode,Measure,Value,Cumulative',\n",
              " 'Exports,2015,31/01/2015,Saturday,01/02/2020,All,All,All,$,257000000,257000000',\n",
              " 'Exports,2015,01/02/2015,Sunday,02/02/2020,All,All,All,$,123000000,380000000',\n",
              " 'Exports,2015,02/02/2015,Monday,03/02/2020,All,All,All,$,176000000,556000000',\n",
              " 'Exports,2015,03/02/2015,Tuesday,04/02/2020,All,All,All,$,115000000,671000000']"
            ]
          },
          "metadata": {
            "tags": []
          },
          "execution_count": 17
        }
      ]
    },
    {
      "cell_type": "code",
      "metadata": {
        "id": "5X-0qwAd-Nsj",
        "colab_type": "code",
        "colab": {
          "base_uri": "https://localhost:8080/",
          "height": 72
        },
        "outputId": "d7e71183-a836-4e63-892e-1284ee9d173c"
      },
      "source": [
        "csv_rdd = raw_rdd.map(lambda row: row.split(\",\"))\n",
        "parsed_rdd = csv_rdd.map(lambda r: Row(\n",
        "    Direction=r[0], \n",
        "    Year=r[1],\n",
        "    Date=r[2],\n",
        "    Weekday=r[3],\n",
        "    Current_Match=r[4],\n",
        "    Country=r[5],\n",
        "    Commodity=r[6],\n",
        "    Transport_Mode=r[7],\n",
        "    Measure=r[8],\n",
        "    Value=r[9],\n",
        "    Cumulative=r[10]\n",
        "    ))\n",
        "parsed_rdd.take(2)"
      ],
      "execution_count": 49,
      "outputs": [
        {
          "output_type": "execute_result",
          "data": {
            "text/plain": [
              "[Row(Commodity='Commodity', Country='Country', Cumulative='Cumulative', Current_Match='Current_Match', Date='Date', Direction='Direction', Measure='Measure', Transport_Mode='Transport_Mode', Value='Value', Weekday='Weekday', Year='Year'),\n",
              " Row(Commodity='All', Country='All', Cumulative='257000000', Current_Match='01/02/2020', Date='31/01/2015', Direction='Exports', Measure='$', Transport_Mode='All', Value='257000000', Weekday='Saturday', Year='2015')]"
            ]
          },
          "metadata": {
            "tags": []
          },
          "execution_count": 49
        }
      ]
    },
    {
      "cell_type": "code",
      "metadata": {
        "id": "nEEd2cvh-1e4",
        "colab_type": "code",
        "colab": {
          "base_uri": "https://localhost:8080/",
          "height": 208
        },
        "outputId": "e30bcba8-a276-4a2f-ab87-8df816bb9ab0"
      },
      "source": [
        "sqlContext = SQLContext(sc)\n",
        "df = sqlContext.createDataFrame(parsed_rdd)\n",
        "connections_by_protocol = df.filter(df.Year!='Year').groupBy('Year').count().orderBy('count', ascending=False)\n",
        "connections_by_protocol.show()"
      ],
      "execution_count": 36,
      "outputs": [
        {
          "output_type": "stream",
          "text": [
            "+----+-----+\n",
            "|Year|count|\n",
            "+----+-----+\n",
            "|2015| 4708|\n",
            "|2019| 4704|\n",
            "|2018| 4702|\n",
            "|2017| 4701|\n",
            "|2016| 4699|\n",
            "|2020| 4675|\n",
            "+----+-----+\n",
            "\n"
          ],
          "name": "stdout"
        }
      ]
    },
    {
      "cell_type": "code",
      "metadata": {
        "id": "wxC3zLNy_Mxg",
        "colab_type": "code",
        "colab": {
          "base_uri": "https://localhost:8080/",
          "height": 468
        },
        "outputId": "8d0d8f6e-7020-4fa9-dc25-660cf044f53a"
      },
      "source": [
        "df.registerTempTable(\"connections\")\n",
        "attack_stats = sqlContext.sql(\"\"\"\n",
        "                           SELECT Country, year, count(year) as count\n",
        "                           FROM connections\n",
        "                           WHERE Country not in (\"All\", \"Country\")\n",
        "                           GROUP BY Country, year\n",
        "                           ORDER BY country, year\n",
        "                           \"\"\")\n",
        "attack_stats.show(truncate=False)\n"
      ],
      "execution_count": 47,
      "outputs": [
        {
          "output_type": "stream",
          "text": [
            "+---------------------------+----+-----+\n",
            "|Country                    |year|count|\n",
            "+---------------------------+----+-----+\n",
            "|Australia                  |2015|248  |\n",
            "|Australia                  |2016|248  |\n",
            "|Australia                  |2017|248  |\n",
            "|Australia                  |2018|248  |\n",
            "|Australia                  |2019|248  |\n",
            "|Australia                  |2020|248  |\n",
            "|China                      |2015|1238 |\n",
            "|China                      |2016|1237 |\n",
            "|China                      |2017|1237 |\n",
            "|China                      |2018|1236 |\n",
            "|China                      |2019|1238 |\n",
            "|China                      |2020|1215 |\n",
            "|East Asia (excluding China)|2015|248  |\n",
            "|East Asia (excluding China)|2016|248  |\n",
            "|East Asia (excluding China)|2017|248  |\n",
            "|East Asia (excluding China)|2018|248  |\n",
            "|East Asia (excluding China)|2019|248  |\n",
            "|East Asia (excluding China)|2020|248  |\n",
            "|European Union (28)        |2015|124  |\n",
            "|European Union (28)        |2016|124  |\n",
            "+---------------------------+----+-----+\n",
            "only showing top 20 rows\n",
            "\n"
          ],
          "name": "stdout"
        }
      ]
    }
  ]
}