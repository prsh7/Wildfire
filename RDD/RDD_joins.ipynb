{
  "nbformat": 4,
  "nbformat_minor": 0,
  "metadata": {
    "colab": {
      "name": "RDD_joins.ipynb",
      "provenance": []
    },
    "kernelspec": {
      "name": "python3",
      "display_name": "Python 3"
    }
  },
  "cells": [
    {
      "cell_type": "markdown",
      "metadata": {
        "id": "PfU2b5CTRIiF",
        "colab_type": "text"
      },
      "source": [
        "***Problem Scenario*** \n",
        "\n",
        "Given 3 csv files\n",
        "\n",
        "1.   Employeename.csv - fields (id, name)\n",
        "2.   Employeemanager.csv - fields (id, managerName) \n",
        "3.   EmployeeSalary.csv - fields (id, salary)\n",
        "\n",
        "using Spark RDD APIs, generate a joined output - \n",
        "(id,name,salary,managerName) and save a local csv file.\n",
        "\n",
        "\n"
      ]
    },
    {
      "cell_type": "code",
      "metadata": {
        "id": "hxbyDW2ZRbQw",
        "colab_type": "code",
        "outputId": "37f4a8d6-2293-489e-90b0-a198ac9557af",
        "colab": {
          "base_uri": "https://localhost:8080/",
          "height": 69
        }
      },
      "source": [
        "!pip install --quiet pyspark"
      ],
      "execution_count": 2,
      "outputs": [
        {
          "output_type": "stream",
          "text": [
            "\u001b[K     |████████████████████████████████| 218.4MB 60kB/s \n",
            "\u001b[K     |████████████████████████████████| 204kB 48.6MB/s \n",
            "\u001b[?25h  Building wheel for pyspark (setup.py) ... \u001b[?25l\u001b[?25hdone\n"
          ],
          "name": "stdout"
        }
      ]
    },
    {
      "cell_type": "code",
      "metadata": {
        "id": "mQs_ZiC_Sjw1",
        "colab_type": "code",
        "outputId": "f2dc4571-6c51-42bc-f0c1-89e2ceeff0aa",
        "colab": {
          "base_uri": "https://localhost:8080/",
          "height": 104
        }
      },
      "source": [
        "from pyspark import SparkConf, SparkContext\n",
        "sc = SparkContext.getOrCreate(SparkConf().setMaster(\"local[*]\"))\n",
        "\n",
        "# 1) load EmployeeManager.csv as RDD\n",
        "manager = sc.textFile('/content/EmployeeManager.csv')\n",
        "managerPairRDD = manager.map(lambda x: (x.split(',')[0], x.split(',')[1]))\n",
        "managerPairRDD.take(5)"
      ],
      "execution_count": 11,
      "outputs": [
        {
          "output_type": "execute_result",
          "data": {
            "text/plain": [
              "[('E01', 'Vishnu'),\n",
              " ('E02', 'Satyam'),\n",
              " ('E03', 'Shiv'),\n",
              " ('E04', 'Sundar'),\n",
              " ('E05', 'John')]"
            ]
          },
          "metadata": {
            "tags": []
          },
          "execution_count": 11
        }
      ]
    },
    {
      "cell_type": "code",
      "metadata": {
        "id": "jsXn9M-VneHw",
        "colab_type": "code",
        "colab": {
          "base_uri": "https://localhost:8080/",
          "height": 104
        },
        "outputId": "d73e5ddd-81a8-424b-f95c-1ac963bd0041"
      },
      "source": [
        "# 2) load EmployeeName.csv as RDD\n",
        "name = sc.textFile('/content/EmployeeName.csv')\n",
        "namePairRDD = name.map(lambda x: (x.split(',')[0], x.split(',')[1]))\n",
        "namePairRDD.take(5)"
      ],
      "execution_count": 12,
      "outputs": [
        {
          "output_type": "execute_result",
          "data": {
            "text/plain": [
              "[('E01', 'Lokesh'),\n",
              " ('E02', 'Bhupesh'),\n",
              " ('E03', 'Amit'),\n",
              " ('E04', 'Ratan'),\n",
              " ('E05', 'Dinesh')]"
            ]
          },
          "metadata": {
            "tags": []
          },
          "execution_count": 12
        }
      ]
    },
    {
      "cell_type": "code",
      "metadata": {
        "id": "DsLeo7c5nrWj",
        "colab_type": "code",
        "colab": {
          "base_uri": "https://localhost:8080/",
          "height": 104
        },
        "outputId": "12068829-9b82-4e53-82af-5eb5793fd21b"
      },
      "source": [
        "# 3) load EmployeeSalary.csv as RDD\n",
        "salary = sc.textFile('/content/EmployeeSalary.csv')\n",
        "salaryPairRDD = salary.map(lambda x: (x.split(',')[0], x.split(',')[1]))\n",
        "salaryPairRDD.take(5)"
      ],
      "execution_count": 13,
      "outputs": [
        {
          "output_type": "execute_result",
          "data": {
            "text/plain": [
              "[('E01', '50000'),\n",
              " ('E02', '50000'),\n",
              " ('E03', '45000'),\n",
              " ('E04', '45000'),\n",
              " ('E05', '50000')]"
            ]
          },
          "metadata": {
            "tags": []
          },
          "execution_count": 13
        }
      ]
    },
    {
      "cell_type": "code",
      "metadata": {
        "id": "8cnmnJS3nwTs",
        "colab_type": "code",
        "colab": {
          "base_uri": "https://localhost:8080/",
          "height": 104
        },
        "outputId": "f19de787-0f56-442b-bf67-cb3ad49fd816"
      },
      "source": [
        "joinedRDD = namePairRDD.join(salaryPairRDD).join(managerPairRDD)\n",
        "joinedRDD.take(5)"
      ],
      "execution_count": 14,
      "outputs": [
        {
          "output_type": "execute_result",
          "data": {
            "text/plain": [
              "[('E09', (('Kumar', '10000'), 'Vinod')),\n",
              " ('E04', (('Ratan', '45000'), 'Sundar')),\n",
              " ('E07', (('Tejas', '50000'), 'Tanvir')),\n",
              " ('E01', (('Lokesh', '50000'), 'Vishnu')),\n",
              " ('E05', (('Dinesh', '50000'), 'John'))]"
            ]
          },
          "metadata": {
            "tags": []
          },
          "execution_count": 14
        }
      ]
    },
    {
      "cell_type": "code",
      "metadata": {
        "id": "59E4yTPIn8tH",
        "colab_type": "code",
        "colab": {
          "base_uri": "https://localhost:8080/",
          "height": 104
        },
        "outputId": "85a02f09-a91d-4a86-9f4d-06281fec80ba"
      },
      "source": [
        "# align data by formatting columns of tuple using map\n",
        "finalData = joinedRDD.map(lambda x: (x[0], x[1][0][0], x[1][0][1], x[1][1]))\n",
        "finalData.take(5)"
      ],
      "execution_count": 15,
      "outputs": [
        {
          "output_type": "execute_result",
          "data": {
            "text/plain": [
              "[('E09', 'Kumar', '10000', 'Vinod'),\n",
              " ('E04', 'Ratan', '45000', 'Sundar'),\n",
              " ('E07', 'Tejas', '50000', 'Tanvir'),\n",
              " ('E01', 'Lokesh', '50000', 'Vishnu'),\n",
              " ('E05', 'Dinesh', '50000', 'John')]"
            ]
          },
          "metadata": {
            "tags": []
          },
          "execution_count": 15
        }
      ]
    },
    {
      "cell_type": "code",
      "metadata": {
        "id": "YDorJVztoG1L",
        "colab_type": "code",
        "colab": {}
      },
      "source": [
        "# you may sort the data as well by any column, just provide the column index in lambda\n",
        "# Due to dependency issue, I got Py4JJavaError: org.apache.spark.api.python.PythonRDD.collectAndServe\n",
        "# This should resolve if using correct java version\n",
        "sortedRDD = joinedRDD.sortBy(lambda x: x[0])\n",
        "sortedRDD.take(5)"
      ],
      "execution_count": 0,
      "outputs": []
    },
    {
      "cell_type": "code",
      "metadata": {
        "id": "GW69JNynpVoo",
        "colab_type": "code",
        "colab": {}
      },
      "source": [
        "finalData.saveAsTextFile('/content/result.csv')"
      ],
      "execution_count": 0,
      "outputs": []
    },
    {
      "cell_type": "code",
      "metadata": {
        "id": "TJMHrDzrqApZ",
        "colab_type": "code",
        "colab": {
          "base_uri": "https://localhost:8080/",
          "height": 191
        },
        "outputId": "7789106b-56a5-4a79-d40d-20cad4857115"
      },
      "source": [
        "! cat /content/result.csv/part-0000*"
      ],
      "execution_count": 19,
      "outputs": [
        {
          "output_type": "stream",
          "text": [
            "('E09', 'Kumar', '10000', 'Vinod')\n",
            "('E04', 'Ratan', '45000', 'Sundar')\n",
            "('E07', 'Tejas', '50000', 'Tanvir')\n",
            "('E01', 'Lokesh', '50000', 'Vishnu')\n",
            "('E05', 'Dinesh', '50000', 'John')\n",
            "('E06', 'Pavan', '45000', 'Pallavi')\n",
            "('E08', 'Sheela', '10000', 'Shekhar')\n",
            "('E10', 'Venkat', '10000', 'Jitendra')\n",
            "('E03', 'Amit', '45000', 'Shiv')\n",
            "('E02', 'Bhupesh', '50000', 'Satyam')\n"
          ],
          "name": "stdout"
        }
      ]
    }
  ]
}