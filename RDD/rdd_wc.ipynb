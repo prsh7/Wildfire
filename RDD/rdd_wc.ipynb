{
  "nbformat": 4,
  "nbformat_minor": 0,
  "metadata": {
    "colab": {
      "name": "rdd_wc.ipynb",
      "provenance": []
    },
    "kernelspec": {
      "name": "python3",
      "display_name": "Python 3"
    }
  },
  "cells": [
    {
      "cell_type": "code",
      "metadata": {
        "id": "KlvyoX109ocJ",
        "colab_type": "code",
        "colab": {
          "base_uri": "https://localhost:8080/",
          "height": 69
        },
        "outputId": "a938d925-02ea-4816-a26a-85a36be4dd42"
      },
      "source": [
        "!pip install --quiet pyspark"
      ],
      "execution_count": 1,
      "outputs": [
        {
          "output_type": "stream",
          "text": [
            "\u001b[K     |████████████████████████████████| 218.4MB 58kB/s \n",
            "\u001b[K     |████████████████████████████████| 204kB 49.6MB/s \n",
            "\u001b[?25h  Building wheel for pyspark (setup.py) ... \u001b[?25l\u001b[?25hdone\n"
          ],
          "name": "stdout"
        }
      ]
    },
    {
      "cell_type": "code",
      "metadata": {
        "id": "bv62JRea-ArQ",
        "colab_type": "code",
        "colab": {}
      },
      "source": [
        "from pyspark import SparkConf, SparkContext\n",
        "sc = SparkContext.getOrCreate(SparkConf().setMaster(\"local[*]\"))\n",
        "\n",
        "# parallelize some rdd, here a list of words\n",
        "words = ['cat', 'rat', 'bat', 'rat', 'rat']\n",
        "words_rdd = sc.parallelize(words, 1)\n",
        "words_rdd.take(5)\n",
        "\n",
        "# map operation to make k-v pair\n",
        "rdd_tup = words_rdd.map(lambda word: (word, 1))\n",
        "rdd_tup.take(5)\n",
        "\n",
        "# reducebykey to get get frequency of individual words \n",
        "result = rdd_tup.reduceByKey(lambda x, y: x+y)\n",
        "result.take(5)\n",
        "\n",
        "# Filter for counts having animal name starting with 'r'\n",
        "rats_only_count = result.filter(lambda x: x[0].startswith('r'))\n",
        "rats_only_count.take(1)\n",
        "\n",
        "# save result as text_file\n",
        "result.saveAsTextFile('/content/word_freq.csv')"
      ],
      "execution_count": 0,
      "outputs": []
    },
    {
      "cell_type": "code",
      "metadata": {
        "id": "hFtDJJpsSaS1",
        "colab_type": "code",
        "colab": {
          "base_uri": "https://localhost:8080/",
          "height": 69
        },
        "outputId": "e865f716-b2b6-496f-e2e5-cc8571439e7b"
      },
      "source": [
        "! cat /content/word_freq.csv/part-00000"
      ],
      "execution_count": 18,
      "outputs": [
        {
          "output_type": "stream",
          "text": [
            "('cat', 1)\n",
            "('rat', 3)\n",
            "('bat', 1)\n"
          ],
          "name": "stdout"
        }
      ]
    }
  ]
}