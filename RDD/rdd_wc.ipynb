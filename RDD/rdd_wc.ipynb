{
  "nbformat": 4,
  "nbformat_minor": 0,
  "metadata": {
    "colab": {
      "name": "rdd_wc.ipynb",
      "provenance": []
    },
    "kernelspec": {
      "name": "python3",
      "display_name": "Python 3"
    }
  },
  "cells": [
    {
      "cell_type": "code",
      "metadata": {
        "id": "KlvyoX109ocJ",
        "colab_type": "code",
        "colab": {
          "base_uri": "https://localhost:8080/",
          "height": 69
        },
        "outputId": "a938d925-02ea-4816-a26a-85a36be4dd42"
      },
      "source": [
        "!pip install --quiet pyspark"
      ],
      "execution_count": 1,
      "outputs": [
        {
          "output_type": "stream",
          "text": [
            "\u001b[K     |████████████████████████████████| 218.4MB 58kB/s \n",
            "\u001b[K     |████████████████████████████████| 204kB 49.6MB/s \n",
            "\u001b[?25h  Building wheel for pyspark (setup.py) ... \u001b[?25l\u001b[?25hdone\n"
          ],
          "name": "stdout"
        }
      ]
    },
    {
      "cell_type": "code",
      "metadata": {
        "id": "bv62JRea-ArQ",
        "colab_type": "code",
        "colab": {
          "base_uri": "https://localhost:8080/",
          "height": 35
        },
        "outputId": "501b147f-fde0-4812-e3b8-328c5591d59b"
      },
      "source": [
        "from pyspark import SparkConf, SparkContext\n",
        "sc = SparkContext.getOrCreate(SparkConf().setMaster(\"local[*]\"))\n",
        "\n",
        "# parallelize some rdd, here a list of words\n",
        "words = ['cat', 'rat', 'bat', 'rat', 'rat']\n",
        "words_rdd = sc.parallelize(words, 1)\n",
        "words_rdd.take(5)"
      ],
      "execution_count": 19,
      "outputs": [
        {
          "output_type": "execute_result",
          "data": {
            "text/plain": [
              "['cat', 'rat', 'bat', 'rat', 'rat']"
            ]
          },
          "metadata": {
            "tags": []
          },
          "execution_count": 19
        }
      ]
    },
    {
      "cell_type": "code",
      "metadata": {
        "id": "U3zTn9I5iD0n",
        "colab_type": "code",
        "colab": {
          "base_uri": "https://localhost:8080/",
          "height": 35
        },
        "outputId": "c74a3ac5-53ed-45ad-8b70-569c070fe76a"
      },
      "source": [
        "# map operation to make k-v pair\n",
        "rdd_tup = words_rdd.map(lambda word: (word, 1))\n",
        "rdd_tup.take(5)"
      ],
      "execution_count": 20,
      "outputs": [
        {
          "output_type": "execute_result",
          "data": {
            "text/plain": [
              "[('cat', 1), ('rat', 1), ('bat', 1), ('rat', 1), ('rat', 1)]"
            ]
          },
          "metadata": {
            "tags": []
          },
          "execution_count": 20
        }
      ]
    },
    {
      "cell_type": "code",
      "metadata": {
        "id": "39NsSuBQiIWh",
        "colab_type": "code",
        "colab": {
          "base_uri": "https://localhost:8080/",
          "height": 35
        },
        "outputId": "0004f31a-ab5b-4e14-8991-caa049f6e948"
      },
      "source": [
        "# reducebykey to get get frequency of individual words \n",
        "result = rdd_tup.reduceByKey(lambda x, y: x+y)\n",
        "result.take(5)"
      ],
      "execution_count": 21,
      "outputs": [
        {
          "output_type": "execute_result",
          "data": {
            "text/plain": [
              "[('cat', 1), ('rat', 3), ('bat', 1)]"
            ]
          },
          "metadata": {
            "tags": []
          },
          "execution_count": 21
        }
      ]
    },
    {
      "cell_type": "code",
      "metadata": {
        "id": "uXkRyqcOiM8l",
        "colab_type": "code",
        "colab": {
          "base_uri": "https://localhost:8080/",
          "height": 35
        },
        "outputId": "ab4f12bd-74a4-42e1-ebfe-b3c73d7574ef"
      },
      "source": [
        "# Filter for counts having animal name starting with 'r'\n",
        "rats_only_count = result.filter(lambda x: x[0].startswith('r'))\n",
        "rats_only_count.take(1)"
      ],
      "execution_count": 22,
      "outputs": [
        {
          "output_type": "execute_result",
          "data": {
            "text/plain": [
              "[('rat', 3)]"
            ]
          },
          "metadata": {
            "tags": []
          },
          "execution_count": 22
        }
      ]
    },
    {
      "cell_type": "code",
      "metadata": {
        "id": "DU4cbtbEiTv1",
        "colab_type": "code",
        "colab": {}
      },
      "source": [
        "# save result as text_file\n",
        "result.saveAsTextFile('/content/word_freq.csv')"
      ],
      "execution_count": 0,
      "outputs": []
    },
    {
      "cell_type": "code",
      "metadata": {
        "id": "hFtDJJpsSaS1",
        "colab_type": "code",
        "colab": {
          "base_uri": "https://localhost:8080/",
          "height": 69
        },
        "outputId": "bfab887f-dafc-4ae5-e754-1287492a2f2c"
      },
      "source": [
        "! cat /content/word_freq.csv/part-00000"
      ],
      "execution_count": 24,
      "outputs": [
        {
          "output_type": "stream",
          "text": [
            "('cat', 1)\n",
            "('rat', 3)\n",
            "('bat', 1)\n"
          ],
          "name": "stdout"
        }
      ]
    }
  ]
}